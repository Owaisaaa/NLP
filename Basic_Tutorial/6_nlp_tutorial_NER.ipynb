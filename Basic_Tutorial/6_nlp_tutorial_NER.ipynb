{
 "cells": [
  {
   "cell_type": "markdown",
   "metadata": {},
   "source": [
    "<h2 align='center'>NLP Tutorial: Named Entity Recognition (NER)</h2>"
   ]
  },
  {
   "cell_type": "code",
   "execution_count": 1,
   "metadata": {},
   "outputs": [],
   "source": [
    "import spacy"
   ]
  },
  {
   "cell_type": "code",
   "execution_count": 5,
   "metadata": {},
   "outputs": [
    {
     "data": {
      "text/plain": [
       "['tok2vec', 'tagger', 'parser', 'attribute_ruler', 'lemmatizer', 'ner']"
      ]
     },
     "execution_count": 5,
     "metadata": {},
     "output_type": "execute_result"
    }
   ],
   "source": [
    "nlp = spacy.load(\"en_core_web_sm\")\n",
    "nlp.pipe_names"
   ]
  },
  {
   "cell_type": "code",
   "execution_count": 3,
   "metadata": {},
   "outputs": [
    {
     "name": "stdout",
     "output_type": "stream",
     "text": [
      "Tesla Inc  |  ORG  |  Companies, agencies, institutions, etc.\n",
      "$45 billion  |  MONEY  |  Monetary values, including unit\n"
     ]
    }
   ],
   "source": [
    "doc = nlp(\"Tesla Inc is going to acquire twitter for $45 billion\")\n",
    "for ent in doc.ents:\n",
    "    print(ent.text, \" | \", ent.label_, \" | \", spacy.explain(ent.label_))"
   ]
  },
  {
   "cell_type": "code",
   "execution_count": 4,
   "metadata": {
    "scrolled": true
   },
   "outputs": [
    {
     "data": {
      "text/html": [
       "<span class=\"tex2jax_ignore\"><div class=\"entities\" style=\"line-height: 2.5; direction: ltr\">\n",
       "<mark class=\"entity\" style=\"background: #7aecec; padding: 0.45em 0.6em; margin: 0 0.25em; line-height: 1; border-radius: 0.35em;\">\n",
       "    Tesla Inc\n",
       "    <span style=\"font-size: 0.8em; font-weight: bold; line-height: 1; border-radius: 0.35em; vertical-align: middle; margin-left: 0.5rem\">ORG</span>\n",
       "</mark>\n",
       " is going to acquire twitter for \n",
       "<mark class=\"entity\" style=\"background: #e4e7d2; padding: 0.45em 0.6em; margin: 0 0.25em; line-height: 1; border-radius: 0.35em;\">\n",
       "    $45 billion\n",
       "    <span style=\"font-size: 0.8em; font-weight: bold; line-height: 1; border-radius: 0.35em; vertical-align: middle; margin-left: 0.5rem\">MONEY</span>\n",
       "</mark>\n",
       "</div></span>"
      ],
      "text/plain": [
       "<IPython.core.display.HTML object>"
      ]
     },
     "metadata": {},
     "output_type": "display_data"
    }
   ],
   "source": [
    "from spacy import displacy\n",
    "\n",
    "displacy.render(doc, style=\"ent\")"
   ]
  },
  {
   "cell_type": "markdown",
   "metadata": {},
   "source": [
    "<h3>List down all the entities</h3>"
   ]
  },
  {
   "cell_type": "code",
   "execution_count": 6,
   "metadata": {
    "scrolled": true
   },
   "outputs": [
    {
     "data": {
      "text/plain": [
       "['CARDINAL',\n",
       " 'DATE',\n",
       " 'EVENT',\n",
       " 'FAC',\n",
       " 'GPE',\n",
       " 'LANGUAGE',\n",
       " 'LAW',\n",
       " 'LOC',\n",
       " 'MONEY',\n",
       " 'NORP',\n",
       " 'ORDINAL',\n",
       " 'ORG',\n",
       " 'PERCENT',\n",
       " 'PERSON',\n",
       " 'PRODUCT',\n",
       " 'QUANTITY',\n",
       " 'TIME',\n",
       " 'WORK_OF_ART']"
      ]
     },
     "execution_count": 6,
     "metadata": {},
     "output_type": "execute_result"
    }
   ],
   "source": [
    "nlp.pipe_labels['ner']"
   ]
  },
  {
   "cell_type": "markdown",
   "metadata": {},
   "source": [
    "List of entities are also documented on this page: https://spacy.io/models/en"
   ]
  },
  {
   "cell_type": "code",
   "execution_count": 7,
   "metadata": {},
   "outputs": [
    {
     "name": "stdout",
     "output_type": "stream",
     "text": [
      "Michael Bloomberg | PERSON | People, including fictional\n",
      "Bloomberg | GPE | Countries, cities, states\n",
      "1982 | DATE | Absolute or relative dates or periods\n"
     ]
    }
   ],
   "source": [
    "doc = nlp(\"Michael Bloomberg founded Bloomberg in 1982\")\n",
    "for ent in doc.ents:\n",
    "    print(ent.text, \"|\", ent.label_, \"|\", spacy.explain(ent.label_))"
   ]
  },
  {
   "cell_type": "markdown",
   "metadata": {},
   "source": [
    "Above it made a mistake in identifying Bloomberg the company. Let's try hugging face for this now.\n",
    "\n",
    "https://huggingface.co/dslim/bert-base-NER?text=Michael+Bloomberg+founded+Bloomberg+in+1982\n",
    "\n",
    "Here also go through 3 sample examples for NER "
   ]
  },
  {
   "cell_type": "code",
   "execution_count": 8,
   "metadata": {},
   "outputs": [
    {
     "name": "stdout",
     "output_type": "stream",
     "text": [
      "Tesla Inc  |  ORG  |  0 | 9\n",
      "Twitter Inc  |  PERSON  |  30 | 41\n",
      "$45 billion  |  MONEY  |  46 | 57\n"
     ]
    }
   ],
   "source": [
    "doc = nlp(\"Tesla Inc is going to acquire Twitter Inc for $45 billion\")\n",
    "for ent in doc.ents:\n",
    "    print(ent.text, \" | \", ent.label_, \" | \", ent.start_char, \"|\", ent.end_char)"
   ]
  },
  {
   "cell_type": "markdown",
   "metadata": {},
   "source": [
    "<h3>Setting custom entities</h3>"
   ]
  },
  {
   "cell_type": "code",
   "execution_count": 9,
   "metadata": {},
   "outputs": [
    {
     "name": "stdout",
     "output_type": "stream",
     "text": [
      "Tesla  |  ORG\n",
      "Twitter  |  PERSON\n",
      "$45 billion  |  MONEY\n"
     ]
    }
   ],
   "source": [
    "doc = nlp(\"Tesla is going to acquire Twitter for $45 billion\")\n",
    "for ent in doc.ents:\n",
    "    print(ent.text, \" | \", ent.label_)"
   ]
  },
  {
   "cell_type": "code",
   "execution_count": 10,
   "metadata": {},
   "outputs": [
    {
     "data": {
      "text/plain": [
       "going to acquire"
      ]
     },
     "execution_count": 10,
     "metadata": {},
     "output_type": "execute_result"
    }
   ],
   "source": [
    "s = doc[2:5]\n",
    "s"
   ]
  },
  {
   "cell_type": "code",
   "execution_count": 11,
   "metadata": {},
   "outputs": [
    {
     "data": {
      "text/plain": [
       "spacy.tokens.span.Span"
      ]
     },
     "execution_count": 11,
     "metadata": {},
     "output_type": "execute_result"
    }
   ],
   "source": [
    "type(s)"
   ]
  },
  {
   "cell_type": "code",
   "execution_count": null,
   "metadata": {},
   "outputs": [],
   "source": [
    "from spacy.tokens import Span\n",
    "\n",
    "s1 = Span(doc, 0, 1, label=\"ORG\")   # custom entities using span => Tesla | ORG\n",
    "s2 = Span(doc, 5, 6, label=\"ORG\")   # # custom entities using span => Tesla | ORG\n",
    "\n",
    "doc.set_ents([s1, s2], default=\"unmodified\")"
   ]
  },
  {
   "cell_type": "code",
   "execution_count": 13,
   "metadata": {
    "scrolled": true
   },
   "outputs": [
    {
     "name": "stdout",
     "output_type": "stream",
     "text": [
      "Tesla  |  ORG\n",
      "Twitter  |  ORG\n",
      "$45 billion  |  MONEY\n"
     ]
    }
   ],
   "source": [
    "for ent in doc.ents:\n",
    "    print(ent.text, \" | \", ent.label_)"
   ]
  },
  {
   "cell_type": "code",
   "execution_count": 14,
   "metadata": {},
   "outputs": [
    {
     "name": "stdout",
     "output_type": "stream",
     "text": [
      "Help on class Span in module spacy.tokens.span:\n",
      "\n",
      "class Span(builtins.object)\n",
      " |  A slice from a Doc object.\n",
      " |\n",
      " |  DOCS: https://spacy.io/api/span\n",
      " |\n",
      " |  Methods defined here:\n",
      " |\n",
      " |  __eq__(self, value, /)\n",
      " |      Return self==value.\n",
      " |\n",
      " |  __ge__(self, value, /)\n",
      " |      Return self>=value.\n",
      " |\n",
      " |  __getitem__(...)\n",
      " |      Get a `Token` or a `Span` object\n",
      " |\n",
      " |      i (int or tuple): The index of the token within the span, or slice of\n",
      " |          the span to get.\n",
      " |      RETURNS (Token or Span): The token at `span[i]`.\n",
      " |\n",
      " |      DOCS: https://spacy.io/api/span#getitem\n",
      " |\n",
      " |  __gt__(self, value, /)\n",
      " |      Return self>value.\n",
      " |\n",
      " |  __hash__(self, /)\n",
      " |      Return hash(self).\n",
      " |\n",
      " |  __iter__(...)\n",
      " |      Iterate over `Token` objects.\n",
      " |\n",
      " |      YIELDS (Token): A `Token` object.\n",
      " |\n",
      " |      DOCS: https://spacy.io/api/span#iter\n",
      " |\n",
      " |  __le__(self, value, /)\n",
      " |      Return self<=value.\n",
      " |\n",
      " |  __len__(...)\n",
      " |      Get the number of tokens in the span.\n",
      " |\n",
      " |      RETURNS (int): The number of tokens in the span.\n",
      " |\n",
      " |      DOCS: https://spacy.io/api/span#len\n",
      " |\n",
      " |  __lt__(self, value, /)\n",
      " |      Return self<value.\n",
      " |\n",
      " |  __ne__(self, value, /)\n",
      " |      Return self!=value.\n",
      " |\n",
      " |  __reduce__(...)\n",
      " |      Span.__reduce__(self)\n",
      " |\n",
      " |  __repr__(self, /)\n",
      " |      Return repr(self).\n",
      " |\n",
      " |  as_doc(...)\n",
      " |      Span.as_doc(self, *, bool copy_user_data=False, array_head=None, array=None)\n",
      " |      Create a `Doc` object with a copy of the `Span`'s data.\n",
      " |\n",
      " |              copy_user_data (bool): Whether or not to copy the original doc's user data.\n",
      " |              array_head (tuple): `Doc` array attrs, can be passed in to speed up computation.\n",
      " |              array (ndarray): `Doc` as array, can be passed in to speed up computation.\n",
      " |              RETURNS (Doc): The `Doc` copy of the span.\n",
      " |\n",
      " |              DOCS: https://spacy.io/api/span#as_doc\n",
      " |\n",
      " |  char_span(...)\n",
      " |      Span.char_span(self, int start_idx, int end_idx, label=0, kb_id=0, vector=None, id=0, alignment_mode='strict', span_id=0)\n",
      " |      Create a `Span` object from the slice `span.text[start : end]`.\n",
      " |\n",
      " |              start (int): The index of the first character of the span.\n",
      " |              end (int): The index of the first character after the span.\n",
      " |              label (Union[int, str]): A label to attach to the Span, e.g. for\n",
      " |                  named entities.\n",
      " |              kb_id (Union[int, str]):  An ID from a KB to capture the meaning of a named entity.\n",
      " |              vector (ndarray[ndim=1, dtype='float32']): A meaning representation of\n",
      " |                  the span.\n",
      " |              id (Union[int, str]): Unused.\n",
      " |              alignment_mode (str): How character indices are aligned to token\n",
      " |                  boundaries. Options: \"strict\" (character indices must be aligned\n",
      " |                  with token boundaries), \"contract\" (span of all tokens completely\n",
      " |                  within the character span), \"expand\" (span of all tokens at least\n",
      " |                  partially covered by the character span). Defaults to \"strict\".\n",
      " |              span_id (Union[int, str]): An identifier to associate with the span.\n",
      " |              RETURNS (Span): The newly constructed object.\n",
      " |\n",
      " |  get_lca_matrix(...)\n",
      " |      Span.get_lca_matrix(self)\n",
      " |      Calculates a matrix of Lowest Common Ancestors (LCA) for a given\n",
      " |              `Span`, where LCA[i, j] is the index of the lowest common ancestor among\n",
      " |              the tokens span[i] and span[j]. If they have no common ancestor within\n",
      " |              the span, LCA[i, j] will be -1.\n",
      " |\n",
      " |              RETURNS (np.array[ndim=2, dtype=numpy.int32]): LCA matrix with shape\n",
      " |                  (n, n), where n = len(self).\n",
      " |\n",
      " |              DOCS: https://spacy.io/api/span#get_lca_matrix\n",
      " |\n",
      " |  similarity(...)\n",
      " |      Span.similarity(self, other)\n",
      " |      Make a semantic similarity estimate. The default estimate is cosine\n",
      " |              similarity using an average of word vectors.\n",
      " |\n",
      " |              other (object): The object to compare with. By default, accepts `Doc`,\n",
      " |                  `Span`, `Token` and `Lexeme` objects.\n",
      " |              RETURNS (float): A scalar similarity score. Higher is more similar.\n",
      " |\n",
      " |              DOCS: https://spacy.io/api/span#similarity\n",
      " |\n",
      " |  to_array(...)\n",
      " |      Span.to_array(self, py_attr_ids) -> ndarray\n",
      " |      Given a list of M attribute IDs, export the tokens to a numpy\n",
      " |              `ndarray` of shape `(N, M)`, where `N` is the length of the document.\n",
      " |              The values will be 32-bit integers.\n",
      " |\n",
      " |              attr_ids (list[int]): A list of attribute ID ints.\n",
      " |              RETURNS (numpy.ndarray[long, ndim=2]): A feature matrix, with one row\n",
      " |                  per word, and one column per attribute indicated in the input\n",
      " |                  `attr_ids`.\n",
      " |\n",
      " |  ----------------------------------------------------------------------\n",
      " |  Class methods defined here:\n",
      " |\n",
      " |  get_extension(...)\n",
      " |      Span.get_extension(type cls, name)\n",
      " |      Look up a previously registered extension by name.\n",
      " |\n",
      " |              name (str): Name of the extension.\n",
      " |              RETURNS (tuple): A `(default, method, getter, setter)` tuple.\n",
      " |\n",
      " |              DOCS: https://spacy.io/api/span#get_extension\n",
      " |\n",
      " |  has_extension(...)\n",
      " |      Span.has_extension(type cls, name)\n",
      " |      Check whether an extension has been registered.\n",
      " |\n",
      " |              name (str): Name of the extension.\n",
      " |              RETURNS (bool): Whether the extension has been registered.\n",
      " |\n",
      " |              DOCS: https://spacy.io/api/span#has_extension\n",
      " |\n",
      " |  remove_extension(...)\n",
      " |      Span.remove_extension(type cls, name)\n",
      " |      Remove a previously registered extension.\n",
      " |\n",
      " |              name (str): Name of the extension.\n",
      " |              RETURNS (tuple): A `(default, method, getter, setter)` tuple of the\n",
      " |                  removed extension.\n",
      " |\n",
      " |              DOCS: https://spacy.io/api/span#remove_extension\n",
      " |\n",
      " |  set_extension(...)\n",
      " |      Span.set_extension(type cls, name, **kwargs)\n",
      " |      Define a custom attribute which becomes available as `Span._`.\n",
      " |\n",
      " |              name (str): Name of the attribute to set.\n",
      " |              default: Optional default value of the attribute.\n",
      " |              getter (callable): Optional getter function.\n",
      " |              setter (callable): Optional setter function.\n",
      " |              method (callable): Optional method for method extension.\n",
      " |              force (bool): Force overwriting existing attribute.\n",
      " |\n",
      " |              DOCS: https://spacy.io/api/span#set_extension\n",
      " |              USAGE: https://spacy.io/usage/processing-pipelines#custom-components-attributes\n",
      " |\n",
      " |  ----------------------------------------------------------------------\n",
      " |  Static methods defined here:\n",
      " |\n",
      " |  __new__(*args, **kwargs)\n",
      " |      Create and return a new object.  See help(type) for accurate signature.\n",
      " |\n",
      " |  ----------------------------------------------------------------------\n",
      " |  Data descriptors defined here:\n",
      " |\n",
      " |  conjuncts\n",
      " |      Tokens that are conjoined to the span's root.\n",
      " |\n",
      " |      RETURNS (tuple): A tuple of Token objects.\n",
      " |\n",
      " |      DOCS: https://spacy.io/api/span#lefts\n",
      " |\n",
      " |  doc\n",
      " |\n",
      " |  end\n",
      " |\n",
      " |  end_char\n",
      " |\n",
      " |  ent_id\n",
      " |      RETURNS (uint64): The entity ID.\n",
      " |\n",
      " |  ent_id_\n",
      " |      RETURNS (str): The (string) entity ID.\n",
      " |\n",
      " |  ents\n",
      " |      The named entities that fall completely within the span. Returns\n",
      " |      a tuple of `Span` objects.\n",
      " |\n",
      " |      RETURNS (tuple): Entities in the span, one `Span` per entity.\n",
      " |\n",
      " |      DOCS: https://spacy.io/api/span#ents\n",
      " |\n",
      " |  has_vector\n",
      " |      A boolean value indicating whether a word vector is associated with\n",
      " |      the object.\n",
      " |\n",
      " |      RETURNS (bool): Whether a word vector is associated with the object.\n",
      " |\n",
      " |      DOCS: https://spacy.io/api/span#has_vector\n",
      " |\n",
      " |  id\n",
      " |\n",
      " |  id_\n",
      " |      RETURNS (str): The span's ID.\n",
      " |\n",
      " |  kb_id\n",
      " |\n",
      " |  kb_id_\n",
      " |      RETURNS (str): The span's KB ID.\n",
      " |\n",
      " |  label\n",
      " |\n",
      " |  label_\n",
      " |      RETURNS (str): The span's label.\n",
      " |\n",
      " |  lefts\n",
      " |      Tokens that are to the left of the span, whose head is within the\n",
      " |      `Span`.\n",
      " |\n",
      " |      YIELDS (Token):A left-child of a token of the span.\n",
      " |\n",
      " |      DOCS: https://spacy.io/api/span#lefts\n",
      " |\n",
      " |  lemma_\n",
      " |      RETURNS (str): The span's lemma.\n",
      " |\n",
      " |  n_lefts\n",
      " |      The number of tokens that are to the left of the span, whose\n",
      " |      heads are within the span.\n",
      " |\n",
      " |      RETURNS (int): The number of leftward immediate children of the\n",
      " |          span, in the syntactic dependency parse.\n",
      " |\n",
      " |      DOCS: https://spacy.io/api/span#n_lefts\n",
      " |\n",
      " |  n_rights\n",
      " |      The number of tokens that are to the right of the span, whose\n",
      " |      heads are within the span.\n",
      " |\n",
      " |      RETURNS (int): The number of rightward immediate children of the\n",
      " |          span, in the syntactic dependency parse.\n",
      " |\n",
      " |      DOCS: https://spacy.io/api/span#n_rights\n",
      " |\n",
      " |  noun_chunks\n",
      " |      Iterate over the base noun phrases in the span. Yields base\n",
      " |      noun-phrase #[code Span] objects, if the language has a noun chunk iterator.\n",
      " |      Raises a NotImplementedError otherwise.\n",
      " |\n",
      " |      A base noun phrase, or \"NP chunk\", is a noun\n",
      " |      phrase that does not permit other NPs to be nested within it – so no\n",
      " |      NP-level coordination, no prepositional phrases, and no relative\n",
      " |      clauses.\n",
      " |\n",
      " |      YIELDS (Span): Noun chunks in the span.\n",
      " |\n",
      " |      DOCS: https://spacy.io/api/span#noun_chunks\n",
      " |\n",
      " |  orth_\n",
      " |      Verbatim text content (identical to `Span.text`). Exists mostly for\n",
      " |      consistency with other attributes.\n",
      " |\n",
      " |      RETURNS (str): The span's text.\n",
      " |\n",
      " |  rights\n",
      " |      Tokens that are to the right of the Span, whose head is within the\n",
      " |      `Span`.\n",
      " |\n",
      " |      YIELDS (Token): A right-child of a token of the span.\n",
      " |\n",
      " |      DOCS: https://spacy.io/api/span#rights\n",
      " |\n",
      " |  root\n",
      " |      The token with the shortest path to the root of the\n",
      " |      sentence (or the root itself). If multiple tokens are equally\n",
      " |      high in the tree, the first token is taken.\n",
      " |\n",
      " |      RETURNS (Token): The root token.\n",
      " |\n",
      " |      DOCS: https://spacy.io/api/span#root\n",
      " |\n",
      " |  sent\n",
      " |      Obtain the sentence that contains this span. If the given span\n",
      " |      crosses sentence boundaries, return only the first sentence\n",
      " |      to which it belongs.\n",
      " |\n",
      " |      RETURNS (Span): The sentence span that the span is a part of.\n",
      " |\n",
      " |  sentiment\n",
      " |      RETURNS (float): A scalar value indicating the positivity or\n",
      " |      negativity of the span.\n",
      " |\n",
      " |  sents\n",
      " |      Obtain the sentences that contain this span. If the given span\n",
      " |      crosses sentence boundaries, return all sentences it is a part of.\n",
      " |\n",
      " |      RETURNS (Iterable[Span]): All sentences that the span is a part of.\n",
      " |\n",
      " |       DOCS: https://spacy.io/api/span#sents\n",
      " |\n",
      " |  start\n",
      " |\n",
      " |  start_char\n",
      " |\n",
      " |  subtree\n",
      " |      Tokens within the span and tokens which descend from them.\n",
      " |\n",
      " |      YIELDS (Token): A token within the span, or a descendant from it.\n",
      " |\n",
      " |      DOCS: https://spacy.io/api/span#subtree\n",
      " |\n",
      " |  tensor\n",
      " |      The span's slice of the doc's tensor.\n",
      " |\n",
      " |      RETURNS (ndarray[ndim=2, dtype='float32']): A 2D numpy or cupy array\n",
      " |          representing the span's semantics.\n",
      " |\n",
      " |  text\n",
      " |      RETURNS (str): The original verbatim text of the span.\n",
      " |\n",
      " |  text_with_ws\n",
      " |      The text content of the span with a trailing whitespace character if\n",
      " |      the last token has one.\n",
      " |\n",
      " |      RETURNS (str): The text content of the span (with trailing\n",
      " |          whitespace).\n",
      " |\n",
      " |  vector\n",
      " |      A real-valued meaning representation. Defaults to an average of the\n",
      " |      token vectors.\n",
      " |\n",
      " |      RETURNS (numpy.ndarray[ndim=1, dtype='float32']): A 1D numpy array\n",
      " |          representing the span's semantics.\n",
      " |\n",
      " |      DOCS: https://spacy.io/api/span#vector\n",
      " |\n",
      " |  vector_norm\n",
      " |      The L2 norm of the span's vector representation.\n",
      " |\n",
      " |      RETURNS (float): The L2 norm of the vector representation.\n",
      " |\n",
      " |      DOCS: https://spacy.io/api/span#vector_norm\n",
      " |\n",
      " |  vocab\n",
      " |      RETURNS (Vocab): The Span's Doc's vocab.\n",
      " |\n",
      " |  ----------------------------------------------------------------------\n",
      " |  Data and other attributes defined here:\n",
      " |\n",
      " |  __pyx_vtable__ = <capsule object NULL>\n",
      "\n"
     ]
    }
   ],
   "source": [
    "help(Span)"
   ]
  },
  {
   "cell_type": "code",
   "execution_count": null,
   "metadata": {},
   "outputs": [],
   "source": []
  }
 ],
 "metadata": {
  "kernelspec": {
   "display_name": ".venv",
   "language": "python",
   "name": "python3"
  },
  "language_info": {
   "codemirror_mode": {
    "name": "ipython",
    "version": 3
   },
   "file_extension": ".py",
   "mimetype": "text/x-python",
   "name": "python",
   "nbconvert_exporter": "python",
   "pygments_lexer": "ipython3",
   "version": "3.12.5"
  }
 },
 "nbformat": 4,
 "nbformat_minor": 4
}
