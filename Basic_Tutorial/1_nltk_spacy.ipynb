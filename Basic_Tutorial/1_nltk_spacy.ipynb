{
 "cells": [
  {
   "cell_type": "markdown",
   "metadata": {},
   "source": [
    "### Introduction to spacy and nltk"
   ]
  },
  {
   "cell_type": "markdown",
   "metadata": {},
   "source": [
    "Tokenize using Spacy. Spacy gives out of the box solution and with nltk there are lot of options on which we can do experimentation and choose the best one."
   ]
  },
  {
   "cell_type": "code",
   "execution_count": 1,
   "metadata": {},
   "outputs": [],
   "source": [
    "import spacy"
   ]
  },
  {
   "cell_type": "code",
   "execution_count": 2,
   "metadata": {},
   "outputs": [
    {
     "name": "stdout",
     "output_type": "stream",
     "text": [
      "My name is Dr. Owais.\n",
      "I love programming and cricket.\n"
     ]
    }
   ],
   "source": [
    "# we want to use specific package dealing with english language \n",
    "# so we will use that with following command\n",
    "nlp = spacy.load(\"en_core_web_sm\")\n",
    "doc = nlp(\"My name is Dr. Owais. I love programming and cricket.\") # We provide string with two sentenses\n",
    "\n",
    "# now we need to split it into individual sentences and \n",
    "# then into words -> numbers -> ml model\n",
    "for sentence in doc.sents:  # doc is an object and sent is a property -> spacy is object oriented\n",
    "    print(sentence)"
   ]
  },
  {
   "cell_type": "code",
   "execution_count": 3,
   "metadata": {},
   "outputs": [
    {
     "name": "stdout",
     "output_type": "stream",
     "text": [
      "My\n",
      "name\n",
      "is\n",
      "Dr.\n",
      "Owais\n",
      ".\n",
      "I\n",
      "love\n",
      "programming\n",
      "and\n",
      "cricket\n",
      ".\n"
     ]
    }
   ],
   "source": [
    "# spit further into individual words\n",
    "for sentence in doc.sents:\n",
    "    for words in sentence:\n",
    "        print(words)"
   ]
  },
  {
   "cell_type": "markdown",
   "metadata": {},
   "source": [
    "Tokenize using nltk which is a string processing library and is not mainly object oriented"
   ]
  },
  {
   "cell_type": "code",
   "execution_count": 4,
   "metadata": {},
   "outputs": [],
   "source": [
    "import nltk\n",
    "\n",
    "# nltk.download('popular') # This package is important to work with tokenizer and is not downloaded by default with nltk"
   ]
  },
  {
   "cell_type": "code",
   "execution_count": 5,
   "metadata": {},
   "outputs": [],
   "source": [
    "# nltk.download('punkt_tab') # This package is also needed"
   ]
  },
  {
   "cell_type": "code",
   "execution_count": 6,
   "metadata": {},
   "outputs": [],
   "source": [
    "from nltk.tokenize import sent_tokenize\n"
   ]
  },
  {
   "cell_type": "code",
   "execution_count": 7,
   "metadata": {},
   "outputs": [
    {
     "name": "stdout",
     "output_type": "stream",
     "text": [
      "['My name is Dr. Owais.', 'I love programming and cricket.']\n"
     ]
    }
   ],
   "source": [
    "sample_text = \"My name is Dr. Owais. I love programming and cricket.\"\n",
    "sentences = nltk.sent_tokenize(sample_text) \n",
    "print(sentences)"
   ]
  },
  {
   "cell_type": "code",
   "execution_count": 8,
   "metadata": {},
   "outputs": [
    {
     "data": {
      "text/plain": [
       "['My',\n",
       " 'name',\n",
       " 'is',\n",
       " 'Dr.',\n",
       " 'Owais',\n",
       " '.',\n",
       " 'I',\n",
       " 'love',\n",
       " 'programming',\n",
       " 'and',\n",
       " 'cricket',\n",
       " '.']"
      ]
     },
     "execution_count": 8,
     "metadata": {},
     "output_type": "execute_result"
    }
   ],
   "source": [
    "from nltk.tokenize import word_tokenize\n",
    "nltk.word_tokenize(sample_text)"
   ]
  },
  {
   "cell_type": "code",
   "execution_count": 9,
   "metadata": {},
   "outputs": [
    {
     "name": "stdout",
     "output_type": "stream",
     "text": [
      "زہء\n",
      "کاتے\n",
      "چہُکہ\n",
      "رۆزان\n"
     ]
    }
   ],
   "source": [
    "# Lets try tokenization on our own kashmiri language\n",
    "nlp = spacy.blank('en')\n",
    "doc = nlp(\"زہء کاتے چہُکہ رۆزان\")\n",
    "for token in doc:\n",
    "    print(token)"
   ]
  },
  {
   "cell_type": "code",
   "execution_count": 10,
   "metadata": {},
   "outputs": [
    {
     "name": "stdout",
     "output_type": "stream",
     "text": [
      "مؠے  :  False False\n",
      "دؠے  :  False False\n",
      "۵۰۰  :  True False\n",
      "رُپؠے  :  False False\n",
      "وزُم  :  False False\n"
     ]
    }
   ],
   "source": [
    "doc = nlp(\"مؠے دؠے ۵۰۰ رُپؠے وزُم\")\n",
    "for token in doc:\n",
    "    print(token, \" : \",  token.like_num, token.is_currency)"
   ]
  }
 ],
 "metadata": {
  "kernelspec": {
   "display_name": ".venv",
   "language": "python",
   "name": "python3"
  },
  "language_info": {
   "codemirror_mode": {
    "name": "ipython",
    "version": 3
   },
   "file_extension": ".py",
   "mimetype": "text/x-python",
   "name": "python",
   "nbconvert_exporter": "python",
   "pygments_lexer": "ipython3",
   "version": "3.12.5"
  }
 },
 "nbformat": 4,
 "nbformat_minor": 2
}
